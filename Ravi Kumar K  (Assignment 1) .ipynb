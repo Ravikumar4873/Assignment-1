{
 "cells": [
  {
   "cell_type": "markdown",
   "metadata": {},
   "source": [
    "# PYTHON 1"
   ]
  },
  {
   "cell_type": "markdown",
   "metadata": {},
   "source": [
    "# My First program"
   ]
  },
  {
   "cell_type": "code",
   "execution_count": 1,
   "metadata": {},
   "outputs": [],
   "source": [
    "list = l = [1,2,3,4,5]"
   ]
  },
  {
   "cell_type": "code",
   "execution_count": 2,
   "metadata": {},
   "outputs": [
    {
     "data": {
      "text/plain": [
       "[1, 2, 3, 4, 5]"
      ]
     },
     "execution_count": 2,
     "metadata": {},
     "output_type": "execute_result"
    }
   ],
   "source": [
    "l"
   ]
  },
  {
   "cell_type": "code",
   "execution_count": 1,
   "metadata": {},
   "outputs": [
    {
     "name": "stdout",
     "output_type": "stream",
     "text": [
      "2002,2009,2016,2023,2037,2044,2051,2058,2072,2079,2086,2093,2107,2114,2121,2128,2142,2149,2156,2163,2177,2184,2191,2198,2212,2219,2226,2233,2247,2254,2261,2268,2282,2289,2296,2303,2317,2324,2331,2338,2352,2359,2366,2373,2387,2394,2401,2408,2422,2429,2436,2443,2457,2464,2471,2478,2492,2499,2506,2513,2527,2534,2541,2548,2562,2569,2576,2583,2597,2604,2611,2618,2632,2639,2646,2653,2667,2674,2681,2688,2702,2709,2716,2723,2737,2744,2751,2758,2772,2779,2786,2793,2807,2814,2821,2828,2842,2849,2856,2863,2877,2884,2891,2898,2912,2919,2926,2933,2947,2954,2961,2968,2982,2989,2996,3003,3017,3024,3031,3038,3052,3059,3066,3073,3087,3094,3101,3108,3122,3129,3136,3143,3157,3164,3171,3178,3192,3199\n",
      "total numbers: 138\n"
     ]
    }
   ],
   "source": [
    "l = []\n",
    "\n",
    "for i in range(2000,3201):\n",
    "    if(i%7==0) and (i%5 != 0):\n",
    "        l.append(str(i))\n",
    "print(','.join(l))\n",
    "print(\"total numbers:\",len(l))"
   ]
  },
  {
   "cell_type": "code",
   "execution_count": 2,
   "metadata": {},
   "outputs": [
    {
     "name": "stdout",
     "output_type": "stream",
     "text": [
      "Input your first name : Ravi\n",
      "Input your last name : Kumar\n",
      "Kumar Ravi\n"
     ]
    }
   ],
   "source": [
    "x = input(\"Input your first name : \")\n",
    "y = input(\"Input your last name : \")\n",
    "\n",
    "print(y + \" \" + x)"
   ]
  },
  {
   "cell_type": "code",
   "execution_count": 3,
   "metadata": {},
   "outputs": [
    {
     "name": "stdout",
     "output_type": "stream",
     "text": [
      "The volume of the sphere is:  904.3199999999999\n"
     ]
    }
   ],
   "source": [
    "pi = 3.14\n",
    "r = 6.0\n",
    "v = 4.0/3.0*pi* r**3\n",
    "print('The volume of the sphere is: ',v)"
   ]
  },
  {
   "cell_type": "markdown",
   "metadata": {},
   "source": [
    "# PYTHON 2"
   ]
  },
  {
   "cell_type": "code",
   "execution_count": 1,
   "metadata": {},
   "outputs": [
    {
     "name": "stdout",
     "output_type": "stream",
     "text": [
      "Input some comma separated numbers : 8,9,4,7,2,4\n",
      "List :  ['8', '9', '4', '7', '2', '4']\n"
     ]
    }
   ],
   "source": [
    "values = input(\"Input some comma separated numbers : \")\n",
    "list = values.split(\",\")\n",
    "\n",
    "print('List : ',list)"
   ]
  },
  {
   "cell_type": "code",
   "execution_count": 3,
   "metadata": {},
   "outputs": [
    {
     "name": "stdout",
     "output_type": "stream",
     "text": [
      "enter the number of rows5\n",
      "*\n",
      "**\n",
      "***\n",
      "****\n",
      "*****\n"
     ]
    }
   ],
   "source": [
    "num=int(input(\"enter the number of rows\"))\n",
    "for i in range(1,num+1):\n",
    "    for j in range(1,i+1):\n",
    "        print(\"*\",end=\"\")\n",
    "    print()\n",
    "    \n",
    "for i in range(num+1,-1):\n",
    "    for j in range(1,i+1):\n",
    "        print(\"*\",end=\"\")\n",
    "    print()"
   ]
  },
  {
   "cell_type": "code",
   "execution_count": 2,
   "metadata": {},
   "outputs": [
    {
     "name": "stdout",
     "output_type": "stream",
     "text": [
      "Please enter your own string : AcadGild\n",
      "\n",
      "The Original String =  AcadGild\n",
      "The Reversed String =  dliGdacA\n"
     ]
    }
   ],
   "source": [
    "string = input(\"Please enter your own string : \")\n",
    "\n",
    "string2 = ''\n",
    "\n",
    "for i in string:\n",
    "    string2 = i + string2\n",
    "    \n",
    "print(\"\\nThe Original String = \",string)\n",
    "print(\"The Reversed String = \",string2)"
   ]
  },
  {
   "cell_type": "code",
   "execution_count": 3,
   "metadata": {},
   "outputs": [
    {
     "name": "stdout",
     "output_type": "stream",
     "text": [
      "WE, THE PEOPLE OF INDIA, \n",
      "\thaving solemnly resolved to constitute India into a SOVEREIGN! \n",
      "\t\tSOCIALIST, SECULAR, DEMOCRATIC \n",
      "\t\t\tREPUBLIC and to secure to all its citizens\n"
     ]
    }
   ],
   "source": [
    "print(\"WE, THE PEOPLE OF INDIA, \\n\\thaving solemnly resolved to constitute India into a SOVEREIGN! \\n\\t\\tSOCIALIST, SECULAR, DEMOCRATIC \\n\\t\\t\\tREPUBLIC and to secure to all its citizens\")"
   ]
  },
  {
   "cell_type": "markdown",
   "metadata": {},
   "source": [
    "# Python 3"
   ]
  },
  {
   "cell_type": "code",
   "execution_count": 4,
   "metadata": {},
   "outputs": [
    {
     "name": "stdout",
     "output_type": "stream",
     "text": [
      "Sum on list [1,2,3] using custom reduce function 6\n",
      "filter only positive Integers on list [0,1,-2,3,4,5] using custom filter function[0, 1, -2, 3, 4, 5]\n"
     ]
    }
   ],
   "source": [
    "def myreduce(anyfunc, sequence):\n",
    "    result = sequence[0]\n",
    "    for item in sequence[1:]:\n",
    "        result = anyfunc(result,item)\n",
    "        \n",
    "    return result\n",
    "\n",
    "def myfilter(anyfunc,sequence):\n",
    "    result = []\n",
    "    \n",
    "    for item in sequence:\n",
    "        result.append(item)\n",
    "        \n",
    "    return result\n",
    "\n",
    "def sum(x,y): return x + y\n",
    "\n",
    "def ispositive(x):\n",
    "    if(x <= 0):\n",
    "        return False\n",
    "    else:\n",
    "        return True\n",
    "    \n",
    "print(\"Sum on list [1,2,3] using custom reduce function \" + str(myreduce(sum, [1,2,3])))\n",
    "print(\"filter only positive Integers on list [0,1,-2,3,4,5] using custom filter function\" +str(myfilter(ispositive, [0,1,-2,3,4,5])))"
   ]
  },
  {
   "cell_type": "code",
   "execution_count": 13,
   "metadata": {},
   "outputs": [
    {
     "name": "stdout",
     "output_type": "stream",
     "text": [
      "ACADGILD => ['A', 'C', 'A', 'D', 'G', 'I', 'L', 'D']\n",
      "['x', 'xx', 'xxx', 'xxxx', 'y', 'yy', 'yyy', 'yyyy', 'z', 'zz', 'zzz', 'zzzz']\n",
      "[2,3,4,5] =>[[2], [3], [4], [3], [4], [5], [4], [5], [6]]\n",
      "[1,2,3] =>[(1, 1), (2, 1), (3, 1), (1, 2), (2, 2), (3, 2), (1, 3), (2, 3), (3, 3)]\n"
     ]
    }
   ],
   "source": [
    "word = \"ACADGILD\"\n",
    "alphabet_list = [ alphabet for alphabet in word ]\n",
    "print(\"ACADGILD => \" + str(alphabet_list))\n",
    "\n",
    "input_list = ['x','y','z']\n",
    "result = [item*num for item in input_list for num in range(1,5) ]\n",
    "print(str(result))\n",
    "\n",
    "input_list = [2,3,4]\n",
    "result = [ [item+num] for item in input_list for num in range(0,3)]\n",
    "print(\"[2,3,4,5] =>\" + str(result))\n",
    "\n",
    "input_list = [1,2,3]\n",
    "result = [ (b,a) for a in input_list for b in input_list]\n",
    "print(\"[1,2,3] =>\" + str(result))"
   ]
  },
  {
   "cell_type": "code",
   "execution_count": 5,
   "metadata": {},
   "outputs": [
    {
     "name": "stdout",
     "output_type": "stream",
     "text": [
      "Exercises\n"
     ]
    }
   ],
   "source": [
    "def find_longest_word(words_list):\n",
    "    word_len = []\n",
    "    for n in words_list:\n",
    "        word_len.append((len(n), n))\n",
    "    word_len.sort()\n",
    "    return word_len[-1][1]\n",
    "\n",
    "print(find_longest_word([\"PHP\", \"Exercises\", \"Backend\"]))"
   ]
  },
  {
   "cell_type": "markdown",
   "metadata": {},
   "source": [
    "# Python 4"
   ]
  },
  {
   "cell_type": "code",
   "execution_count": 6,
   "metadata": {},
   "outputs": [
    {
     "name": "stdout",
     "output_type": "stream",
     "text": [
      "The area of the triangle os 13.42\n"
     ]
    }
   ],
   "source": [
    "a = 4\n",
    "b = 9\n",
    "c = 7\n",
    "\n",
    "s = (a + b + c) / 2\n",
    "\n",
    "area = (s*(s-a)*(s-b)*(s-c)) ** 0.5\n",
    "print('The area of the triangle os %0.2f' %area)"
   ]
  },
  {
   "cell_type": "code",
   "execution_count": 7,
   "metadata": {},
   "outputs": [
    {
     "name": "stdout",
     "output_type": "stream",
     "text": [
      "Please input the list of words: Data Science\n",
      "Please input an integer: 0\n",
      "The list of words greater than the integer is ['D']\n"
     ]
    }
   ],
   "source": [
    "def filterlongword(string,number):\n",
    "    for i in range(len(string)):\n",
    "        listwords = []\n",
    "        if len(string[i]) > number:\n",
    "            listwords.append(string[i])\n",
    "            \n",
    "        return listwords\n",
    "    \n",
    "def main():\n",
    "    words = input(\"Please input the list of words: \")\n",
    "    integer = eval(input(\"Please input an integer: \"))\n",
    "    \n",
    "    words1 = filterlongword(words,integer)\n",
    "    print(\"The list of words greater than the integer is\",words1)\n",
    "    \n",
    "main()"
   ]
  },
  {
   "cell_type": "code",
   "execution_count": 11,
   "metadata": {},
   "outputs": [
    {
     "name": "stdout",
     "output_type": "stream",
     "text": [
      "List of words:['wordone', 'wordtwo', 'wordthree']\n",
      "List of wordlength:[7, 7, 9]\n"
     ]
    }
   ],
   "source": [
    "listofwords = ['wordone','wordtwo','wordthree']\n",
    "\n",
    "listofInts = []\n",
    "\n",
    "for i in range(len(listofwords)):\n",
    "    listofInts.append(len(listofwords[i]))\n",
    "    \n",
    "print(\"List of words:\"+str(listofwords))\n",
    "print(\"List of wordlength:\"+str(listofInts))"
   ]
  },
  {
   "cell_type": "code",
   "execution_count": 12,
   "metadata": {},
   "outputs": [
    {
     "name": "stdout",
     "output_type": "stream",
     "text": [
      "False\n",
      "True\n"
     ]
    }
   ],
   "source": [
    "def is_vowel(char):\n",
    "    all_vowels = 'aeiou'\n",
    "    return char in all_vowels\n",
    "print(is_vowel('c'))\n",
    "print(is_vowel('e'))"
   ]
  },
  {
   "cell_type": "markdown",
   "metadata": {},
   "source": [
    "# Python 5"
   ]
  },
  {
   "cell_type": "code",
   "execution_count": 9,
   "metadata": {},
   "outputs": [
    {
     "name": "stdout",
     "output_type": "stream",
     "text": [
      "The entry is a\n",
      "Oops! <class 'ValueError'> occured.\n",
      "Next entry.\n",
      "\n",
      "The entry is 0\n",
      "Oops! <class 'ZeroDivisionError'> occured.\n",
      "Next entry.\n",
      "\n",
      "The entry is 5\n",
      "The reciprocal of 5 is 0.2\n"
     ]
    }
   ],
   "source": [
    "randomlist = ['a', 0, 5]\n",
    "\n",
    "for entry in randomlist:\n",
    "    try:\n",
    "        print(\"The entry is\", entry)\n",
    "        r = 1/int(entry)\n",
    "        break\n",
    "    except:\n",
    "            print(\"Oops!\",sys.exc_info()[0], \"occured.\")\n",
    "            print(\"Next entry.\")\n",
    "            print()\n",
    "print(\"The reciprocal of\",entry,\"is\",r)"
   ]
  },
  {
   "cell_type": "code",
   "execution_count": 10,
   "metadata": {},
   "outputs": [
    {
     "name": "stdout",
     "output_type": "stream",
     "text": [
      "Americans  play Baseball\n",
      "Americans  play Cricket\n",
      "Americans  watch Baseball\n",
      "Americans  watch Cricket\n",
      "Indians play Baseball\n",
      "Indians play Cricket\n",
      "Indians watch Baseball\n",
      "Indians watch Cricket\n"
     ]
    }
   ],
   "source": [
    "subjects=[\"Americans \",\"Indians\"] \n",
    " \n",
    "verbs=[\"play\",\"watch\"] \n",
    " \n",
    "objects=[\"Baseball\",\"Cricket\"] \n",
    "\n",
    "sentence_list = [(sub+\" \" + vb + \" \" + ob) for sub in subjects for vb in verbs for ob in objects]\n",
    "for sentence in sentence_list:\n",
    "    print(sentence)"
   ]
  },
  {
   "cell_type": "code",
   "execution_count": null,
   "metadata": {},
   "outputs": [],
   "source": []
  }
 ],
 "metadata": {
  "kernelspec": {
   "display_name": "Python 3",
   "language": "python",
   "name": "python3"
  },
  "language_info": {
   "codemirror_mode": {
    "name": "ipython",
    "version": 3
   },
   "file_extension": ".py",
   "mimetype": "text/x-python",
   "name": "python",
   "nbconvert_exporter": "python",
   "pygments_lexer": "ipython3",
   "version": "3.7.3"
  }
 },
 "nbformat": 4,
 "nbformat_minor": 2
}
